{
  "nbformat": 4,
  "nbformat_minor": 0,
  "metadata": {
    "colab": {
      "name": "Breast-Cancer-Detection.ipynb",
      "private_outputs": true,
      "provenance": [],
      "collapsed_sections": []
    },
    "kernelspec": {
      "name": "python3",
      "display_name": "Python 3"
    },
    "language_info": {
      "name": "python"
    },
    "accelerator": "GPU"
  },
  "cells": [
    {
      "cell_type": "markdown",
      "metadata": {
        "id": "JcJGwG7o3Nzw"
      },
      "source": [
        "# **Data acquisition**"
      ]
    },
    {
      "cell_type": "code",
      "metadata": {
        "id": "MbdTaGkH3SYF"
      },
      "source": [
        "# install Kaggle\n",
        "! pip install kaggle "
      ],
      "execution_count": null,
      "outputs": []
    },
    {
      "cell_type": "code",
      "metadata": {
        "id": "AdGw3PUKR1Qx"
      },
      "source": [
        "# make a directory named Kaggle\n",
        "! mkdir ~/.kaggle"
      ],
      "execution_count": null,
      "outputs": []
    },
    {
      "cell_type": "code",
      "metadata": {
        "id": "LgqTOEw-UVzs"
      },
      "source": [
        "# copy the kaggle.json into this dir\n",
        "! cp kaggle.json ~/.kaggle/"
      ],
      "execution_count": null,
      "outputs": []
    },
    {
      "cell_type": "code",
      "metadata": {
        "id": "JTsNJKDpUg1x"
      },
      "source": [
        "! chmod 600 ~/.kaggle/kaggle.json"
      ],
      "execution_count": null,
      "outputs": []
    },
    {
      "cell_type": "code",
      "metadata": {
        "id": "6veaKdkHUmuP"
      },
      "source": [
        "#Download dataset\n",
        "! kaggle datasets download paultimothymooney/breast-histopathology-images"
      ],
      "execution_count": null,
      "outputs": []
    },
    {
      "cell_type": "code",
      "metadata": {
        "id": "j6g7tbHiVojc"
      },
      "source": [
        "! unzip breast-histopathology-images.zip -d breastCancer"
      ],
      "execution_count": null,
      "outputs": []
    },
    {
      "cell_type": "markdown",
      "metadata": {
        "id": "-xIGRk4aOGT3"
      },
      "source": [
        "# **Import librairies**"
      ]
    },
    {
      "cell_type": "code",
      "metadata": {
        "id": "YLYR8jyoObJp"
      },
      "source": [
        "import os\n",
        "import numpy as np\n",
        "import shutil\n",
        "import matplotlib.pyplot as plt\n",
        "import seaborn as sns\n",
        "import itertools\n",
        "\n",
        "\n",
        "from skimage.filters import gaussian\n",
        "from skimage.util import random_noise\n",
        "import matplotlib.image as mpimg\n",
        "\n",
        "from sklearn.model_selection import train_test_split\n",
        "\n",
        "\n",
        "\n",
        "import tensorflow\n",
        "from tensorflow.keras.preprocessing.image import ImageDataGenerator\n",
        "from tensorflow.keras.models import Sequential\n",
        "from tensorflow.keras.models import model_from_json\n",
        "from tensorflow.keras.layers import Dense\n",
        "from tensorflow.keras.layers import Conv2D\n",
        "from tensorflow.keras.layers import MaxPool2D,Dropout,MaxPooling2D\n",
        "from tensorflow.keras.layers import Flatten\n",
        "from tensorflow.keras.callbacks import EarlyStopping,ModelCheckpoint"
      ],
      "execution_count": null,
      "outputs": []
    },
    {
      "cell_type": "code",
      "metadata": {
        "id": "9bu0mQegko_5"
      },
      "source": [
        "# accsess the data files and dir\n",
        "cancerData     = os.listdir(\"/content/breastCancer/IDC_regular_ps50_idx5\") \n",
        "data       = \"data\"  # is this path we will put all the images\n",
        "cancerData_str =\"/content/breastCancer/IDC_regular_ps50_idx5/\""
      ],
      "execution_count": null,
      "outputs": []
    },
    {
      "cell_type": "code",
      "metadata": {
        "id": "jNy5Jz0IlUrn"
      },
      "source": [
        "#the structure of our data\n",
        "print(cancerData)\n",
        "print(len(cancerData)) \n",
        "cancerData_str"
      ],
      "execution_count": null,
      "outputs": []
    },
    {
      "cell_type": "code",
      "metadata": {
        "id": "2UyHjZLDmdeb"
      },
      "source": [
        "#To facilitate the process of dealing with screening mammograms images, we will collect all the images in one place, while retaining ownership of each image and its class as well...\n",
        "os.mkdir(data)"
      ],
      "execution_count": null,
      "outputs": []
    },
    {
      "cell_type": "code",
      "metadata": {
        "id": "KjKOm9lVmg1D"
      },
      "source": [
        "data_dir = os.listdir('./data') "
      ],
      "execution_count": null,
      "outputs": []
    },
    {
      "cell_type": "code",
      "metadata": {
        "id": "MwxB7kWRoVMf"
      },
      "source": [
        "#Here we will move the images, but by adding a small part in their path, which indicates that they are negative or positive\n",
        "for patient in cancerData:   \n",
        "    path_0 = cancerData_str + str(patient) + '/0'\n",
        "    path_1 = cancerData_str + str(patient) + '/1'\n",
        "    file_list_0 = os.listdir(path_0)   \n",
        "    file_list_1 = os.listdir(path_1)\n",
        "    for fname in file_list_0:\n",
        "            src = os.path.join(path_0, fname)\n",
        "            dst = os.path.join(data, fname)\n",
        "            shutil.copyfile(src, dst)\n",
        "    for fname in file_list_1:\n",
        "        src = os.path.join(path_1, fname)\n",
        "        dst = os.path.join(data, fname)\n",
        "        shutil.copyfile(src, dst)"
      ],
      "execution_count": null,
      "outputs": []
    },
    {
      "cell_type": "code",
      "metadata": {
        "id": "UjMurV25qX62"
      },
      "source": [
        "data_dir = os.listdir('./data') \n",
        "len(data_dir)"
      ],
      "execution_count": null,
      "outputs": []
    },
    {
      "cell_type": "markdown",
      "metadata": {
        "id": "Y2SD7AhtrKMv"
      },
      "source": [
        "Now we have 277524 images\n",
        "Then, it's time to put images in a data_frame for easy access\n"
      ]
    },
    {
      "cell_type": "code",
      "metadata": {
        "id": "tZ279TI6rP8A"
      },
      "source": [
        "import pandas as pd\n",
        "dataframe = pd.DataFrame(data_dir, columns=['image_id'])\n",
        "dataframe.head()"
      ],
      "execution_count": null,
      "outputs": []
    },
    {
      "cell_type": "code",
      "metadata": {
        "id": "V9a2RnQ1r5V5"
      },
      "source": [
        "#Based on the addition that we added earlier in the path, we divide the data\n",
        "def extract_target(x):\n",
        "    a = x.split('_')\n",
        "    b = a[4]\n",
        "    target = b[5] \n",
        "    return target\n",
        "\n",
        "dataframe['target'] = dataframe['image_id'].apply(extract_target)\n",
        "\n",
        "dataframe.head(10)"
      ],
      "execution_count": null,
      "outputs": []
    },
    {
      "cell_type": "code",
      "metadata": {
        "id": "egwyZO7Isec5"
      },
      "source": [
        "def extract_patient_id(x):\n",
        "    # split into a list\n",
        "    a = x.split('_')\n",
        "    patient_id = a[0]\n",
        "    \n",
        "    return patient_id\n",
        "dataframe['patient_id'] = dataframe['image_id'].apply(extract_patient_id)\n",
        "dataframe.head()"
      ],
      "execution_count": null,
      "outputs": []
    },
    {
      "cell_type": "code",
      "metadata": {
        "id": "Vu8BQ5gfs_TH"
      },
      "source": [
        "dataframe['target'].value_counts()"
      ],
      "execution_count": null,
      "outputs": []
    },
    {
      "cell_type": "markdown",
      "metadata": {
        "id": "5qJxUHFdtLnn"
      },
      "source": [
        "It also seems that the number of healthy rays is greater than the number of infected rays"
      ]
    },
    {
      "cell_type": "markdown",
      "metadata": {
        "id": "Xz30mcFQtl6L"
      },
      "source": [
        "# **Data exploration**"
      ]
    },
    {
      "cell_type": "code",
      "metadata": {
        "id": "qwjWsPbatvr6"
      },
      "source": [
        "#First of all, let's take a look at the nature of the mammograms\n",
        "#healthy: neg_selection\n",
        "dataframe.target = dataframe.target.astype(np.int)\n",
        "fig, ax = plt.subplots(5,10,figsize=(20,10))\n",
        "pos_selection = np.random.choice(dataframe[dataframe.target ==1].index, size=50, replace=False,)\n",
        "neg_selection = np.random.choice(dataframe[dataframe.target ==0].index, size=50, replace=False,)\n",
        "for n in range(5):\n",
        "    for m in range(10):\n",
        "        idx = neg_selection[m + 10*n]\n",
        "        path =os.path.join(data,dataframe.loc[idx, 'image_id'])\n",
        "        image = mpimg.imread(path)\n",
        "        ax[n,m].imshow(image)\n",
        "        ax[n,m].grid(False)"
      ],
      "execution_count": null,
      "outputs": []
    },
    {
      "cell_type": "markdown",
      "metadata": {
        "id": "ujeoWwmwuWO0"
      },
      "source": [
        "Most of the mammograms are light pink, but there are some dark ones too"
      ]
    },
    {
      "cell_type": "code",
      "metadata": {
        "id": "aL5jwxUTuQo8"
      },
      "source": [
        "#cancer: pos_selection\n",
        "fig, ax = plt.subplots(5,10,figsize=(20,10))\n",
        "for n in range(5):\n",
        "    for m in range(10):\n",
        "        idx = pos_selection[m + 10*n]\n",
        "        path =os.path.join(data,dataframe.loc[idx, 'image_id'])\n",
        "        image = mpimg.imread(path)\n",
        "        ax[n,m].imshow(image)\n",
        "        ax[n,m].grid(False)"
      ],
      "execution_count": null,
      "outputs": []
    },
    {
      "cell_type": "markdown",
      "metadata": {
        "id": "ggJFjfmMvS67"
      },
      "source": [
        "Patches with cancer look more violet and crowded than healthy ones.\n",
        "In fact, we could not determine the actual difference between the two types with the naked eye, but I think that the model is able to detect hidden patterns in these images that enable us to determine the state of each image."
      ]
    },
    {
      "cell_type": "code",
      "metadata": {
        "id": "_dP3qE6bvIrY"
      },
      "source": [
        "cancer_percentage = dataframe.groupby(\"patient_id\").target.value_counts()/ dataframe.groupby(\"patient_id\").target.size()\n",
        "cancer_percentage = cancer_percentage.unstack()\n",
        "\n",
        "fig, ax = plt.subplots(1,3,figsize=(20,5))\n",
        "sns.distplot(dataframe.groupby(\"patient_id\").size(), ax=ax[0], color=\"Orange\", kde=False, bins=30)\n",
        "ax[0].set_xlabel(\"Number of patches\")\n",
        "ax[0].set_ylabel(\"Frequency\");\n",
        "ax[0].set_title(\"How many patches do we have per patient?\");\n",
        "sns.distplot(cancer_percentage.loc[:, 1]*100, ax=ax[1], color=\"Tomato\", kde=False, bins=30)\n",
        "ax[1].set_title(\"How much percentage of an image is covered by IDC?\")\n",
        "ax[1].set_ylabel(\"Frequency\")\n",
        "ax[1].set_xlabel(\"% of patches with IDC\");\n",
        "sns.countplot(dataframe.target, palette=\"Set2\", ax=ax[2]);\n",
        "ax[2].set_xlabel(\"no(0) versus yes(1)\")\n",
        "ax[2].set_title(\"How many patches show IDC?\");"
      ],
      "execution_count": null,
      "outputs": []
    },
    {
      "cell_type": "markdown",
      "metadata": {
        "id": "cg3qLZ8ywNTr"
      },
      "source": [
        "The number of image patches per patient varies a lot.\n",
        "Most of the photos have a percentage that is not large, but there are other photos that have a percentage of up to 80%.\n",
        "the smaller number of mammograms had cancer"
      ]
    },
    {
      "cell_type": "code",
      "metadata": {
        "id": "q2De8TGswJds"
      },
      "source": [
        "def extract_coords(df):\n",
        "    coord = df.path.str.rsplit(\"_\", n=4, expand=True)\n",
        "    coord = coord.drop([0, 1, 4], axis=1)\n",
        "    coord = coord.rename({2: \"x\", 3: \"y\"}, axis=1)\n",
        "    coord.loc[:, \"x\"] = coord.loc[:,\"x\"].str.replace(\"x\", \"\", case=False).astype(np.int)\n",
        "    coord.loc[:, \"y\"] = coord.loc[:,\"y\"].str.replace(\"y\", \"\", case=False).astype(np.int)\n",
        "    df.loc[:, \"x\"] = coord.x.values\n",
        "    df.loc[:, \"y\"] = coord.y.values\n",
        "    return df\n",
        "\n",
        "def get_cancer_dataframe(patient_id, cancer_id):\n",
        "    path = cancerData_str + patient_id + \"/\" + cancer_id\n",
        "    files = os.listdir(path)\n",
        "    dataframe = pd.DataFrame(files, columns=[\"filename\"])\n",
        "    path_names = path + \"/\" + dataframe.filename.values\n",
        "    dataframe = dataframe.filename.str.rsplit(\"_\", n=4, expand=True)\n",
        "    dataframe.loc[:, \"target\"] = np.int(cancer_id)\n",
        "    dataframe.loc[:, \"path\"] = path_names\n",
        "    dataframe = dataframe.drop([0, 1, 4], axis=1)\n",
        "    dataframe = dataframe.rename({2: \"x\", 3: \"y\"}, axis=1)\n",
        "    dataframe.loc[:, \"x\"] = dataframe.loc[:,\"x\"].str.replace(\"x\", \"\", case=False).astype(np.int)\n",
        "    dataframe.loc[:, \"y\"] = dataframe.loc[:,\"y\"].str.replace(\"y\", \"\", case=False).astype(np.int)\n",
        "    return dataframe\n",
        "def get_patient_dataframe(patient_id):\n",
        "    df_0 = get_cancer_dataframe(patient_id, \"0\")\n",
        "    df_1 = get_cancer_dataframe(patient_id, \"1\")\n",
        "    patient_df = df_0.append(df_1)\n",
        "    return patient_df\n"
      ],
      "execution_count": null,
      "outputs": []
    },
    {
      "cell_type": "code",
      "metadata": {
        "id": "lipyfOljxHPJ"
      },
      "source": [
        "example = get_patient_dataframe(dataframe.patient_id.values[0])\n",
        "example.head()"
      ],
      "execution_count": null,
      "outputs": []
    },
    {
      "cell_type": "code",
      "metadata": {
        "id": "8i6o7QWdxw6n"
      },
      "source": [
        "#let's take a closer look at the shape of the patches and their distribution in each mammogram using Binary objective visualization for each tissue slice\n",
        "fig, ax = plt.subplots(5,3,figsize=(20, 27))\n",
        "\n",
        "patient_ids = dataframe.patient_id.unique()\n",
        "\n",
        "for n in range(5):\n",
        "    for m in range(3):\n",
        "        patient_id = patient_ids[m + 3*n]\n",
        "        example_df = get_patient_dataframe(patient_id)\n",
        "        \n",
        "        ax[n,m].scatter(example_df.x.values, example_df.y.values, c=example_df.target.values, cmap=\"coolwarm\", s=20);\n",
        "        ax[n,m].set_title(\"patient \" + patient_id)\n",
        "        ax[n,m].set_xlabel(\"y coord\")\n",
        "        ax[n,m].set_ylabel(\"x coord\")"
      ],
      "execution_count": null,
      "outputs": []
    },
    {
      "cell_type": "markdown",
      "metadata": {
        "id": "HqmtjwwlycUU"
      },
      "source": [
        "We see a large variation in the concentration of cells.\n",
        "Sometimes we don't have the full tissue information. It seems that tissue patches have been discarded or lost during preparation."
      ]
    },
    {
      "cell_type": "markdown",
      "metadata": {
        "id": "i91ZJab5yl4-"
      },
      "source": [
        "# **Image Processing**"
      ]
    },
    {
      "cell_type": "code",
      "metadata": {
        "id": "nC6zmQxZyVc6"
      },
      "source": [
        "dataframe.target = dataframe.target.astype(np.int)\n",
        "random_image_path = np.random.choice(dataframe[dataframe.target ==0].index, size=1, replace=False,)\n",
        "path =os.path.join(data,dataframe.loc[random_image_path[0], 'image_id'])\n",
        "image = mpimg.imread(path)\n",
        "plt.imshow(image)"
      ],
      "execution_count": null,
      "outputs": []
    },
    {
      "cell_type": "code",
      "metadata": {
        "id": "XWAgvs-7y78E"
      },
      "source": [
        "gaussian_image = gaussian(image)\n",
        "plt.imshow(gaussian_image)"
      ],
      "execution_count": null,
      "outputs": []
    },
    {
      "cell_type": "code",
      "metadata": {
        "id": "2c7QYT2jzDBv"
      },
      "source": [
        "noise_image = random_noise(image)\n",
        "plt.imshow(noise_image)"
      ],
      "execution_count": null,
      "outputs": []
    },
    {
      "cell_type": "code",
      "metadata": {
        "id": "D7G-Yj0kzNjf"
      },
      "source": [
        "noise_gaussian_image = random_noise(gaussian_image)\n",
        "plt.imshow(noise_gaussian_image)"
      ],
      "execution_count": null,
      "outputs": []
    },
    {
      "cell_type": "code",
      "metadata": {
        "id": "CTgBp_U3zQHe"
      },
      "source": [
        "os.mkdir('image_processing') #We create a new file to process the data in\n",
        "os.mkdir('image_processing/noise_images')"
      ],
      "execution_count": null,
      "outputs": []
    },
    {
      "cell_type": "code",
      "metadata": {
        "id": "d0VhGsYXzXa1"
      },
      "source": [
        "#Here we take the image from the normal images folder, process it, and then save it in the new file\n",
        "for normal_image in data_dir :\n",
        "    path        = data+'/'+ normal_image\n",
        "    img         = mpimg.imread( path ,0)\n",
        "    noise_image = random_noise(img)\n",
        "    fname       = normal_image\n",
        "    new_path    = os.path.join('image_processing/noise_images',fname)\n",
        "    mpimg.imsave(new_path, noise_image)\n",
        "    "
      ],
      "execution_count": null,
      "outputs": []
    },
    {
      "cell_type": "code",
      "metadata": {
        "id": "8FOJFvReVn9o"
      },
      "source": [
        "os.mkdir( 'image_processing/processd_data_train')\n",
        "os.mkdir( 'image_processing/processd_data_test')\n",
        "os.mkdir( 'image_processing/processd_data_train/zeros')\n",
        "os.mkdir( 'image_processing/processd_data_train/ones')\n",
        "os.mkdir( 'image_processing/processd_data_test/zeros')\n",
        "os.mkdir( 'image_processing/processd_data_test/ones')"
      ],
      "execution_count": null,
      "outputs": []
    },
    {
      "cell_type": "code",
      "metadata": {
        "id": "6QqLkU023QJU"
      },
      "source": [
        "processd_lst = os.listdir('image_processing/noise_images')\n",
        "processd_lst_str = 'image_processing/noise_images'\n",
        "processd_data = pd.DataFrame(processd_lst, columns=['image_id'])\n",
        "processd_data.head()"
      ],
      "execution_count": null,
      "outputs": []
    },
    {
      "cell_type": "code",
      "metadata": {
        "id": "PAYBZ_zs3hrj"
      },
      "source": [
        "def extract_target(x):\n",
        "    a = x.split('_')\n",
        "    b = a[4]\n",
        "    target = b[5] \n",
        "    return target\n",
        "\n",
        "processd_data['target'] = processd_data['image_id'].apply(extract_target)\n",
        "\n",
        "processd_data.head(10)"
      ],
      "execution_count": null,
      "outputs": []
    },
    {
      "cell_type": "code",
      "metadata": {
        "id": "rTlDxffk3tLR"
      },
      "source": [
        "processd_data['target'].value_counts()"
      ],
      "execution_count": null,
      "outputs": []
    },
    {
      "cell_type": "code",
      "metadata": {
        "id": "mXbsr7BnQi7c"
      },
      "source": [
        "y = processd_data['target']\n",
        "processd_train, processd_test = train_test_split(processd_data, test_size=0.10, random_state=101, stratify=y)\n",
        "processd_test_pls =processd_test.image_id\n",
        "processd_train_pls =processd_train.image_id"
      ],
      "execution_count": null,
      "outputs": []
    },
    {
      "cell_type": "code",
      "metadata": {
        "id": "4p--5r5gRdFu"
      },
      "source": [
        "processd_data.set_index('image_id', inplace=True)\n",
        "for image in processd_test_pls:\n",
        "    fname = image\n",
        "    target = processd_data.loc[image,'target']\n",
        "    if target == '0':\n",
        "        label = 'zeros'\n",
        "    if target == '1':\n",
        "        label = 'ones'\n",
        "    src = os.path.join(processd_lst_str, fname)\n",
        "    dst = os.path.join(\"image_processing/processd_data_test\", label, fname)\n",
        "    shutil.copyfile(src, dst)"
      ],
      "execution_count": null,
      "outputs": []
    },
    {
      "cell_type": "code",
      "metadata": {
        "id": "dNvfNzh1V3LA"
      },
      "source": [
        "for image in processd_train_pls:\n",
        "    fname  = image\n",
        "    target = processd_data.loc[image,'target']\n",
        "    \n",
        "    if target == '0':\n",
        "        label = 'zeros'\n",
        "    if target == '1':\n",
        "        label = 'ones'\n",
        "    src = os.path.join(processd_lst_str, fname)\n",
        "    dst = os.path.join('image_processing/processd_data_train', label, fname)\n",
        "    shutil.copyfile(src, dst)"
      ],
      "execution_count": null,
      "outputs": []
    },
    {
      "cell_type": "code",
      "metadata": {
        "id": "W3NzPN-0WIgC"
      },
      "source": [
        "print(len(os.listdir('image_processing/processd_data_train/zeros')))\n",
        "print(len(os.listdir('image_processing/processd_data_train/ones')))\n",
        "print(len(os.listdir('image_processing/processd_data_test/zeros')))\n",
        "print(len(os.listdir('image_processing/processd_data_test/ones')))"
      ],
      "execution_count": null,
      "outputs": []
    },
    {
      "cell_type": "markdown",
      "metadata": {
        "id": "NLPfx2guWxZz"
      },
      "source": [
        "# **Processing and Normal test**"
      ]
    },
    {
      "cell_type": "code",
      "metadata": {
        "id": "4xhR03vRWI2J"
      },
      "source": [
        "processd_lst = os.listdir('image_processing/noise_images')\n",
        "processd_lst_str = 'image_processing/noise_images'\n",
        "processd_data = pd.DataFrame(processd_lst, columns=['image_id'])\n",
        "def extract_target(x):\n",
        "    a = x.split('_')\n",
        "    b = a[4]\n",
        "    target = b[5] \n",
        "    return target\n",
        "\n",
        "processd_data['target'] = processd_data['image_id'].apply(extract_target)\n",
        "\n",
        "processd_data.head(10)"
      ],
      "execution_count": null,
      "outputs": []
    },
    {
      "cell_type": "code",
      "metadata": {
        "id": "UiLyavbyXaqr"
      },
      "source": [
        "os.mkdir( 'image_processing/model_tst')\n",
        "os.mkdir( 'image_processing/model_tst/trainig')\n",
        "os.mkdir( 'image_processing/model_tst/testing')          \n",
        "os.mkdir( 'image_processing/model_tst/trainig/zeros')\n",
        "os.mkdir( 'image_processing/model_tst/trainig/ones')\n",
        "os.mkdir( 'image_processing/model_tst/testing/zeros')\n",
        "os.mkdir( 'image_processing/model_tst/testing/ones')"
      ],
      "execution_count": null,
      "outputs": []
    },
    {
      "cell_type": "code",
      "metadata": {
        "id": "kC5Vp-ebXoMW"
      },
      "source": [
        "df_0 = processd_data[processd_data['target'] == '0'].sample(10000, random_state=101)\n",
        "df_1 = processd_data[processd_data['target'] == '1'].sample(10000, random_state=101)\n",
        "test_data =pd.DataFrame(dataframe)\n",
        "test_data = pd.concat([df_0, df_1], axis=0).reset_index(drop=True)\n",
        "test_y = test_data['target']\n",
        "test_data_train, test_data_test = train_test_split(test_data, test_size=0.10, random_state=101, stratify=test_y)\n",
        "sts_train = test_data_train.image_id\n",
        "tst_test  = test_data_test.image_id\n",
        "test_data.set_index('image_id', inplace=True)\n",
        "for image in sts_train:\n",
        "    fname  = image\n",
        "    target = test_data.loc[image,'target']\n",
        "    \n",
        "    if target == '0':\n",
        "        label = 'zeros'\n",
        "    if target == '1':\n",
        "        label = 'ones'\n",
        "    src = os.path.join(data, fname)\n",
        "    dst = os.path.join('image_processing/model_tst/trainig', label, fname)\n",
        "    shutil.copyfile(src, dst)\n",
        "for image in tst_test:\n",
        "    fname  = image\n",
        "    target = test_data.loc[image,'target']\n",
        "    \n",
        "    if target == '0':\n",
        "        label = 'zeros'\n",
        "    if target == '1':\n",
        "        label = 'ones'\n",
        "    src = os.path.join(data, fname)\n",
        "    dst = os.path.join('image_processing/model_tst/testing', label, fname)\n",
        "    shutil.copyfile(src, dst)   "
      ],
      "execution_count": null,
      "outputs": []
    },
    {
      "cell_type": "code",
      "metadata": {
        "id": "NEvjRPIjYLeU"
      },
      "source": [
        "processd_data.target = processd_data.target.astype(np.int)\n",
        "fig, ax = plt.subplots(5,4,figsize=(30,20))\n",
        "pos_selection = np.random.choice(processd_data[processd_data.target==1].index.values, size=20, replace=False)\n",
        "neg_selection = np.random.choice(processd_data[processd_data.target==0].index.values, size=20, replace=False)\n",
        "for n in range(5):\n",
        "    for m in range(4):\n",
        "        idx = pos_selection[m + 4*n]\n",
        "        path =os.path.join(processd_lst_str,processd_data.loc[idx, 'image_id'])\n",
        "        image = mpimg.imread(path)\n",
        "        ax[n,m].imshow(image)\n",
        "        ax[n,m].grid(False)"
      ],
      "execution_count": null,
      "outputs": []
    },
    {
      "cell_type": "code",
      "metadata": {
        "id": "2e4Qe4AQYlD5"
      },
      "source": [
        "fig, ax = plt.subplots(5,4,figsize=(30,20))\n",
        "for n in range(5):\n",
        "    for m in range(4):\n",
        "        idx = neg_selection[m + 4*n]\n",
        "        path =os.path.join(processd_lst_str,processd_data.loc[idx, 'image_id'])\n",
        "        image = mpimg.imread(path)\n",
        "        ax[n,m].imshow(image)\n",
        "        ax[n,m].grid(False)"
      ],
      "execution_count": null,
      "outputs": []
    },
    {
      "cell_type": "code",
      "metadata": {
        "id": "yZYZdhbbYlTW"
      },
      "source": [
        "data_processd_test_generation = ImageDataGenerator(rescale=1.0/255)\n",
        "train_generation_processd = data_processd_test_generation.flow_from_directory(\"image_processing/model_tst/trainig\", target_size=(50,50), batch_size=10,class_mode='categorical')\n",
        "test_generation_processd = data_processd_test_generation.flow_from_directory(\"image_processing/model_tst/testing\",target_size=(50,50),batch_size=10,class_mode='categorical')"
      ],
      "execution_count": null,
      "outputs": []
    },
    {
      "cell_type": "code",
      "metadata": {
        "id": "BvP3zUvZZcwF"
      },
      "source": [
        "my_model_im_processd =Sequential()\n",
        "my_model_im_processd.add(Conv2D(filters=32,kernel_size=(4,4),input_shape=(50,50,3),activation='relu'))\n",
        "my_model_im_processd.add(MaxPool2D(pool_size=(2,2)))\n",
        "\n",
        "\n",
        "my_model_im_processd.add(Flatten())\n",
        "\n",
        "my_model_im_processd.add(Dense(128,activation='relu'))\n",
        "\n",
        "my_model_im_processd.add(Dense(2,activation='softmax'))\n",
        "\n",
        "my_model_im_processd.compile(loss = 'categorical_crossentropy', optimizer ='adam', metrics= ['accuracy'])"
      ],
      "execution_count": null,
      "outputs": []
    },
    {
      "cell_type": "code",
      "metadata": {
        "id": "mVQgBmqYZc7U"
      },
      "source": [
        "early_stop = EarlyStopping(monitor='val_loss',patience=2)\n",
        "my_model_im_processd.fit(train_generation_processd,validation_data=test_generation_processd,epochs=60, verbose=1,callbacks=early_stop)"
      ],
      "execution_count": null,
      "outputs": []
    },
    {
      "cell_type": "code",
      "metadata": {
        "id": "8XZ0a95DaMZC"
      },
      "source": [
        "os.mkdir( 'image_processing/normal')\n",
        "os.mkdir( 'image_processing/normal/model_tst') \n",
        "os.mkdir( 'image_processing/normal/model_tst/trainig')\n",
        "os.mkdir( 'image_processing/normal/model_tst/testing')\n",
        "os.mkdir( 'image_processing/normal/model_tst/trainig/zeros')\n",
        "os.mkdir( 'image_processing/normal/model_tst/trainig/ones')\n",
        "os.mkdir( 'image_processing/normal/model_tst/testing/zeros')\n",
        "os.mkdir( 'image_processing/normal/model_tst/testing/ones')"
      ],
      "execution_count": null,
      "outputs": []
    },
    {
      "cell_type": "code",
      "metadata": {
        "id": "gxXvm-GIaM0a"
      },
      "source": [
        "dataframe = pd.DataFrame(data_dir, columns=['image_id'])\n",
        "dataframe['target'] = dataframe['image_id'].apply(extract_target)\n",
        "df_0 = dataframe[dataframe['target'] == '0'].sample(10000, random_state=101)\n",
        "df_1 = dataframe[dataframe['target'] == '1'].sample(10000, random_state=101)\n",
        "test_data =pd.DataFrame(dataframe)\n",
        "test_data = pd.concat([df_0, df_1], axis=0).reset_index(drop=True)\n",
        "test_y = test_data['target']\n",
        "test_data_train, test_data_test = train_test_split(test_data, test_size=0.10, random_state=101, stratify=test_y)\n",
        "sts_train = test_data_train.image_id\n",
        "tst_test  = test_data_test.image_id\n",
        "test_data.set_index('image_id', inplace=True)\n",
        "for image in sts_train:\n",
        "    fname  = image\n",
        "    target = test_data.loc[image,'target']\n",
        "    \n",
        "    if target == '0':\n",
        "        label = 'zeros'\n",
        "    if target == '1':\n",
        "        label = 'ones'\n",
        "    src = os.path.join(data, fname)\n",
        "    dst = os.path.join('image_processing/normal/model_tst/trainig', label, fname)\n",
        "    shutil.copyfile(src, dst)\n",
        "for image in tst_test:\n",
        "    fname  = image\n",
        "    target = test_data.loc[image,'target']\n",
        "    \n",
        "    if target == '0':\n",
        "        label = 'zeros'\n",
        "    if target == '1':\n",
        "        label = 'ones'\n",
        "    src = os.path.join(data, fname)\n",
        "    dst = os.path.join('image_processing/normal/model_tst/testing', label, fname)\n",
        "    shutil.copyfile(src, dst)    "
      ],
      "execution_count": null,
      "outputs": []
    },
    {
      "cell_type": "code",
      "metadata": {
        "id": "toL6mvVDbO-9"
      },
      "source": [
        "data_normal_test_generation = ImageDataGenerator(rescale=1.0/255)\n",
        "train_generation_normal = data_normal_test_generation.flow_from_directory(\"image_processing/normal/model_tst/trainig\", target_size=(50,50), batch_size=10,class_mode='categorical')\n",
        "test_generation_normal = data_normal_test_generation.flow_from_directory(\"image_processing/normal/model_tst/testing\",target_size=(50,50),batch_size=10,class_mode='categorical')"
      ],
      "execution_count": null,
      "outputs": []
    },
    {
      "cell_type": "code",
      "metadata": {
        "id": "h-0wxmrrbPLe"
      },
      "source": [
        "my_model_im_norm =Sequential()\n",
        "my_model_im_norm.add(Conv2D(filters=32,kernel_size=(4,4),input_shape=(50,50,3),activation='relu'))\n",
        "my_model_im_norm.add(MaxPool2D(pool_size=(2,2)))\n",
        "\n",
        "\n",
        "my_model_im_norm.add(Flatten())\n",
        "\n",
        "my_model_im_norm.add(Dense(128,activation='relu'))\n",
        "my_model_im_norm.add(Dense(2,activation='softmax'))\n",
        "\n",
        "my_model_im_norm.compile(loss = 'categorical_crossentropy', optimizer ='adam', metrics= ['accuracy'])"
      ],
      "execution_count": null,
      "outputs": []
    },
    {
      "cell_type": "code",
      "metadata": {
        "id": "qumMZUzMbPWf"
      },
      "source": [
        "early_stop = EarlyStopping(monitor='val_loss',patience=2)\n",
        "my_model_im_processd.fit(train_generation_normal,validation_data=test_generation_normal,epochs=60, verbose=1,callbacks=early_stop)"
      ],
      "execution_count": null,
      "outputs": []
    },
    {
      "cell_type": "markdown",
      "metadata": {
        "id": "-61rzmZ0p4kc"
      },
      "source": [
        "conclusion : Normal images are the best in modeling"
      ]
    },
    {
      "cell_type": "markdown",
      "metadata": {
        "id": "W80UJyyNqA8R"
      },
      "source": [
        "# **Modeling**"
      ]
    },
    {
      "cell_type": "code",
      "metadata": {
        "id": "__Lc9NIfp3wj"
      },
      "source": [
        "#Data Spliting & Generation\n",
        "dataframe = pd.DataFrame(data_dir, columns=['image_id'])\n",
        "def extract_target(x):\n",
        "    a = x.split('_')\n",
        "    b = a[4]\n",
        "    target = b[5] \n",
        "    return target\n",
        "\n",
        "dataframe['target'] = dataframe['image_id'].apply(extract_target)\n",
        "\n",
        "dataframe.head()"
      ],
      "execution_count": null,
      "outputs": []
    },
    {
      "cell_type": "code",
      "metadata": {
        "id": "EvQpkLptpyws"
      },
      "source": [
        "y = dataframe['target']\n",
        "data_train, data_test = train_test_split(dataframe, test_size=0.10, random_state=101, stratify=y)"
      ],
      "execution_count": null,
      "outputs": []
    },
    {
      "cell_type": "code",
      "metadata": {
        "id": "eddRk6sbqhaF"
      },
      "source": [
        "print(data_train.shape)\n",
        "print(data_test.shape)"
      ],
      "execution_count": null,
      "outputs": []
    },
    {
      "cell_type": "code",
      "metadata": {
        "id": "1NSWh8b8qhud"
      },
      "source": [
        "os.mkdir( 'train_dir')\n",
        "os.mkdir('test_dir')"
      ],
      "execution_count": null,
      "outputs": []
    },
    {
      "cell_type": "code",
      "metadata": {
        "id": "hgN0MUfrqo4I"
      },
      "source": [
        "os.mkdir( 'train_dir/zeros')\n",
        "os.mkdir( 'train_dir/ones')\n",
        "\n",
        "os.mkdir( 'test_dir/zeros')\n",
        "os.mkdir( 'test_dir/ones')"
      ],
      "execution_count": null,
      "outputs": []
    },
    {
      "cell_type": "code",
      "metadata": {
        "id": "zsMfAf-8qsrl"
      },
      "source": [
        "train = data_train.image_id\n",
        "test  = data_test.image_id"
      ],
      "execution_count": null,
      "outputs": []
    },
    {
      "cell_type": "code",
      "metadata": {
        "id": "F9pmDBXdqs49"
      },
      "source": [
        "dataframe.set_index('image_id', inplace=True)\n",
        "for image in train:\n",
        "    fname  = image\n",
        "    target = dataframe.loc[image,'target']\n",
        "    \n",
        "    if target == '0':\n",
        "        label = 'zeros'\n",
        "    if target == '1':\n",
        "        label = 'ones'\n",
        "    src = os.path.join(data, fname)\n",
        "    dst = os.path.join('train_dir', label, fname)\n",
        "    shutil.copyfile(src, dst)"
      ],
      "execution_count": null,
      "outputs": []
    },
    {
      "cell_type": "code",
      "metadata": {
        "id": "ROW3tlUmrXwk"
      },
      "source": [
        "for image in test:\n",
        "    fname = image\n",
        "    target = dataframe.loc[image,'target']\n",
        "    if target == '0':\n",
        "        label = 'zeros'\n",
        "    if target == '1':\n",
        "        label = 'ones'\n",
        "    src = os.path.join(data, fname)\n",
        "    dst = os.path.join(\"test_dir\", label, fname)\n",
        "    shutil.copyfile(src, dst)"
      ],
      "execution_count": null,
      "outputs": []
    },
    {
      "cell_type": "code",
      "metadata": {
        "id": "oRrOIZper8VV"
      },
      "source": [
        "print('non-IDC train      =',len(os.listdir('train_dir/zeros')))\n",
        "print('IDC train          =',len(os.listdir('train_dir/ones')))\n",
        "print('non-IDC validation =',len(os.listdir('test_dir/zeros')))\n",
        "print('IDC validation     =',len(os.listdir('test_dir/ones')))"
      ],
      "execution_count": null,
      "outputs": []
    },
    {
      "cell_type": "code",
      "metadata": {
        "id": "0awleYkasDx3"
      },
      "source": [
        "data_generation = ImageDataGenerator(rescale=1.0/255)"
      ],
      "execution_count": null,
      "outputs": []
    },
    {
      "cell_type": "code",
      "metadata": {
        "id": "3NyqyQrusEPu"
      },
      "source": [
        "train_generation = data_generation.flow_from_directory(\n",
        "                                        \"train_dir\",\n",
        "                                        target_size=(25,25),\n",
        "                                        batch_size=10,\n",
        "                                        class_mode='categorical')\n",
        "test_generation = data_generation.flow_from_directory(\n",
        "                                        \"test_dir\",\n",
        "                                        target_size=(25,25),\n",
        "                                        batch_size=10,\n",
        "                                        class_mode='categorical')"
      ],
      "execution_count": null,
      "outputs": []
    },
    {
      "cell_type": "code",
      "metadata": {
        "id": "gV2RxT52sPT9"
      },
      "source": [
        "my_model =Sequential()\n",
        "my_model.add(Conv2D(filters=32,kernel_size=(4,4),input_shape=(25,25,3),activation='relu'))\n",
        "my_model.add(Conv2D(filters=32,kernel_size=(4,4),input_shape=(25,25,3),activation='relu'))\n",
        "my_model.add(MaxPool2D(pool_size=(2,2)))\n",
        "my_model.add(Dropout(.3))\n",
        "\n",
        "my_model.add(Flatten())\n",
        "\n",
        "my_model.add(Dense(256,activation='relu'))\n",
        "\n",
        "my_model.add(Dense(2,activation='softmax'))\n",
        "\n",
        "my_model.compile(loss = 'categorical_crossentropy', optimizer ='adam', metrics= ['accuracy'])"
      ],
      "execution_count": null,
      "outputs": []
    },
    {
      "cell_type": "code",
      "metadata": {
        "id": "Nv4-b5VCsU_-"
      },
      "source": [
        "my_model.summary()"
      ],
      "execution_count": null,
      "outputs": []
    },
    {
      "cell_type": "code",
      "metadata": {
        "id": "nKcomgVosarI"
      },
      "source": [
        "my_model.fit(train_generation,validation_data=test_generation,epochs=60, verbose=1,callbacks=early_stop)"
      ],
      "execution_count": null,
      "outputs": []
    },
    {
      "cell_type": "code",
      "metadata": {
        "id": "Dvp1leacsa98"
      },
      "source": [
        "#Outputs and Outcomes\n",
        "losse = pd.DataFrame(my_model.history.history)\n",
        "losse.head()"
      ],
      "execution_count": null,
      "outputs": []
    },
    {
      "cell_type": "code",
      "metadata": {
        "id": "_Pv8xl1vs8fY"
      },
      "source": [
        "losse[['accuracy','val_accuracy']].plot()"
      ],
      "execution_count": null,
      "outputs": []
    },
    {
      "cell_type": "code",
      "metadata": {
        "id": "5S9HsHR7s9ma"
      },
      "source": [
        "losse[['loss','val_loss']].plot()"
      ],
      "execution_count": null,
      "outputs": []
    },
    {
      "cell_type": "code",
      "metadata": {
        "id": "wLPOJkKTtBQE"
      },
      "source": [
        "val_loss, val_acc = \\\n",
        "my_model.evaluate(test_generation)\n",
        "\n",
        "print('val_loss:', val_loss)\n",
        "print('val_acc:', val_acc)"
      ],
      "execution_count": null,
      "outputs": []
    },
    {
      "cell_type": "markdown",
      "metadata": {
        "id": "TmG0yfArtTAH"
      },
      "source": [
        "model results :\n",
        "After several attempts, we made a good model design\n",
        "Our model have a good acc = 85%\n",
        "over fitting is so small\n",
        "We're ready to create APIs"
      ]
    },
    {
      "cell_type": "markdown",
      "metadata": {
        "id": "9oAFjKBJtajD"
      },
      "source": [
        "# **Save &Loaded Model**"
      ]
    },
    {
      "cell_type": "code",
      "metadata": {
        "id": "W28SECsStPdg"
      },
      "source": [
        "model_json = my_model.to_json()"
      ],
      "execution_count": null,
      "outputs": []
    },
    {
      "cell_type": "code",
      "metadata": {
        "id": "I0myL_43uUKG"
      },
      "source": [
        "with open(\"model.json\", \"w\") as json_file:\n",
        "    json_file.write(model_json)\n",
        "my_model.save_weights(\"model.h5\")\n",
        "print(\"Saved model to disk\")"
      ],
      "execution_count": null,
      "outputs": []
    },
    {
      "cell_type": "code",
      "metadata": {
        "id": "4iVltKj3uYpJ"
      },
      "source": [
        "json_file = open('model.json', 'r')\n",
        "loaded_model_json = json_file.read()\n",
        "json_file.close()\n",
        "loaded_model = model_from_json(loaded_model_json)\n",
        "loaded_model.load_weights(\"model.h5\")\n",
        "print(\"Loaded model from disk\")\n",
        " \n",
        "loaded_model.compile(loss='binary_crossentropy', optimizer='rmsprop', metrics=['accuracy'])"
      ],
      "execution_count": null,
      "outputs": []
    },
    {
      "cell_type": "code",
      "metadata": {
        "id": "1cGqhcK4ueya"
      },
      "source": [
        "class Api_service :\n",
        "    def __init__(self,img_file_path):\n",
        "        self.img_file_path = img_file_path\n",
        "    def prediction_function(self) :\n",
        "        predict_generation = data_generation.flow_from_directory(\n",
        "                                            self.img_file_path,\n",
        "                                            target_size=(25,25),\n",
        "                                            batch_size=10,\n",
        "                                            class_mode='categorical')\n",
        "\n",
        "        prediction = loaded_model.predict(predict_generation)\n",
        "        has_cancer = 'The percentage of cancer : '+ str(round(prediction[0][0]*100,2)) + \"%\"\n",
        "        has_no_cancer='Percentage of no cancer : ' + str(round(prediction[0][1]*100,2)) + '%'\n",
        "        return has_cancer,has_no_cancer "
      ],
      "execution_count": null,
      "outputs": []
    },
    {
      "cell_type": "code",
      "metadata": {
        "id": "dM_HBsC9umUl"
      },
      "source": [
        "prediction = Api_service(\"image_processing/normal/model_tst/trainig\")\n",
        "x,y        = prediction.prediction_function()\n",
        "print(x)\n",
        "print(y)"
      ],
      "execution_count": null,
      "outputs": []
    }
  ]
}